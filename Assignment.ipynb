{
 "cells": [
  {
   "cell_type": "markdown",
   "metadata": {},
   "source": [
    "# Assignment 2019: Programming for Data Analysis.\n",
    "\n",
    "There are four distinct tasks to be carried out in this assignment. They are\n",
    "\n",
    "1. Explain the overall purpose of the package.\n",
    "2. Explain the use of the “Simple random data” and “Permutations” functions.\n",
    "3. Explain the use and purpose of at least five “Distributions” functions.\n",
    "4. Explain the use of seeds in generating pseudorandom numbers\n",
    "\n",
    "**Overall purpose of the package:**\n",
    "\n",
    "One of modulues used in Python's numpy package is random module. The random module generates random numbers. The module consists of random data, permutations, distributions and random generator. It provides an array of tools, for tasks such as picking a random floating-point number between 0 and 1, and selecting a random integer between two numbers. The module is also capable of generating a vast amount of probability distribtions.\n"
   ]
  },
  {
   "cell_type": "markdown",
   "metadata": {},
   "source": [
    "The random module choose random items from a sequence of items randomly"
   ]
  },
  {
   "cell_type": "code",
   "execution_count": 3,
   "metadata": {},
   "outputs": [
    {
     "data": {
      "text/plain": [
       "'North America'"
      ]
     },
     "execution_count": 3,
     "metadata": {},
     "output_type": "execute_result"
    }
   ],
   "source": [
    "import random\n",
    "random.choice(['Asia','North America','South America','Europe', 'Africa']) #list of continents"
   ]
  },
  {
   "cell_type": "code",
   "execution_count": 4,
   "metadata": {},
   "outputs": [
    {
     "data": {
      "text/plain": [
       "['Red', 'Black', 'Orange', 'Yellow', 'Purple']"
      ]
     },
     "execution_count": 4,
     "metadata": {},
     "output_type": "execute_result"
    }
   ],
   "source": [
    "# Shuffling a list of items randomly\n",
    "\n",
    "import random\n",
    "colors = [\"Red\", \"Purple\", \"Orange\", \"Yellow\", \"Black\"] # list of colors\n",
    "random.shuffle(colors)\n",
    "colors"
   ]
  },
  {
   "cell_type": "markdown",
   "metadata": {},
   "source": [
    "**Use of the “Simple random data” and “Permutations” functions.**"
   ]
  },
  {
   "cell_type": "code",
   "execution_count": 1,
   "metadata": {},
   "outputs": [
    {
     "data": {
      "text/plain": [
       "array([91, 22, 62, 91, 60, 29, 72, 41, 35, 85])"
      ]
     },
     "execution_count": 1,
     "metadata": {},
     "output_type": "execute_result"
    }
   ],
   "source": [
    "# Generate  10 numbers between 1 and 100\n",
    "\n",
    "import numpy as np\n",
    "np.random.randint(low=1, high=100, size=10) #specifying lower, higher values and array size"
   ]
  },
  {
   "cell_type": "code",
   "execution_count": 2,
   "metadata": {},
   "outputs": [
    {
     "data": {
      "text/plain": [
       "array([3, 3, 9, 2, 5, 4, 6, 7, 1, 9, 3, 7, 5, 7, 8, 2, 5, 8, 8, 3, 3, 8,\n",
       "       2, 5, 5, 9, 2, 1, 3, 6, 7, 8, 2, 4, 2, 4, 7, 4, 4, 7, 4, 8, 1, 8,\n",
       "       5, 8, 3, 2, 4, 5])"
      ]
     },
     "execution_count": 2,
     "metadata": {},
     "output_type": "execute_result"
    }
   ],
   "source": [
    "random_numbers = np.random.randint(1, 10, size=(50))\n",
    "random_numbers"
   ]
  },
  {
   "cell_type": "code",
   "execution_count": 4,
   "metadata": {},
   "outputs": [
    {
     "data": {
      "image/png": "[encoded data removed]",
      "text/plain": [
       "<Figure size 432x288 with 1 Axes>"
      ]
     },
     "metadata": {
      "needs_background": "light"
     },
     "output_type": "display_data"
    }
   ],
   "source": [
    "# Plot random array\n",
    "\n",
    "\n",
    "import matplotlib.pyplot as plt\n",
    "%matplotlib inline\n",
    "\n",
    "plt.title(\"randint histogram\") # Label the title\n",
    "plt.xlabel(\"Random numbers\")   # Label x axis\n",
    "plt.ylabel(\"Frequency\")        # Label y axis\n",
    "\n",
    "plt.hist(random_numbers, edgecolor='red') # Edge color of the bar to red\n",
    "\n",
    "plt.show()"
   ]
  },
  {
   "cell_type": "markdown",
   "metadata": {},
   "source": [
    "The histogram shows a bar measure for each number in the array and the frequency of numbers."
   ]
  },
  {
   "cell_type": "code",
   "execution_count": null,
   "metadata": {},
   "outputs": [],
   "source": []
  }
 ],
 "metadata": {
  "kernelspec": {
   "display_name": "Python 3",
   "language": "python",
   "name": "python3"
  },
  "language_info": {
   "codemirror_mode": {
    "name": "ipython",
    "version": 3
   },
   "file_extension": ".py",
   "mimetype": "text/x-python",
   "name": "python",
   "nbconvert_exporter": "python",
   "pygments_lexer": "ipython3",
   "version": "3.7.1"
  }
 },
 "nbformat": 4,
 "nbformat_minor": 2
}
