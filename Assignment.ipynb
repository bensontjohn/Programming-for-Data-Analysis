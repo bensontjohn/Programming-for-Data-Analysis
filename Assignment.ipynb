{
 "cells": [
  {
   "cell_type": "markdown",
   "metadata": {},
   "source": [
    "# Assignment 2019: Programming for Data Analysis.\n",
    "\n",
    "There are four distinct tasks to be carried out in this assignment. They are\n",
    "\n",
    "1. Explain the overall purpose of the package.\n",
    "2. Explain the use of the “Simple random data” and “Permutations” functions.\n",
    "3. Explain the use and purpose of at least five “Distributions” functions.\n",
    "4. Explain the use of seeds in generating pseudorandom numbers\n",
    "\n",
    "**Overall purpose of the package:**\n",
    "\n",
    "One of modulues used in Python's numpy package is random module. The random module generates random numbers. The module consists of random data, permutations, distributions and random generator. It provides an array of tools, for tasks such as picking a random floating-point number between 0 and 1, and selecting a random integer between two numbers. The module is also capable of generating a vast amount of probability distribtions.\n"
   ]
  },
  {
   "cell_type": "markdown",
   "metadata": {},
   "source": [
    "The random module choose random items from a sequence of items randomly"
   ]
  },
  {
   "cell_type": "code",
   "execution_count": 1,
   "metadata": {},
   "outputs": [
    {
     "data": {
      "text/plain": [
       "'South America'"
      ]
     },
     "execution_count": 1,
     "metadata": {},
     "output_type": "execute_result"
    }
   ],
   "source": [
    "import random\n",
    "random.choice(['Asia','North America','South America','Europe', 'Africa']) #list of continents"
   ]
  },
  {
   "cell_type": "code",
   "execution_count": 2,
   "metadata": {},
   "outputs": [
    {
     "data": {
      "text/plain": [
       "['Orange', 'Black', 'Purple', 'Red', 'Yellow']"
      ]
     },
     "execution_count": 2,
     "metadata": {},
     "output_type": "execute_result"
    }
   ],
   "source": [
    "# Shuffling a list of items randomly\n",
    "\n",
    "import random\n",
    "colors = [\"Red\", \"Purple\", \"Orange\", \"Yellow\", \"Black\"] # list of colors\n",
    "random.shuffle(colors)\n",
    "colors"
   ]
  },
  {
   "cell_type": "markdown",
   "metadata": {},
   "source": [
    "**Use of the “Simple random data” and “Permutations” functions.**"
   ]
  },
  {
   "cell_type": "code",
   "execution_count": 3,
   "metadata": {},
   "outputs": [
    {
     "data": {
      "text/plain": [
       "array([46, 70, 24, 95, 39, 45, 14, 73, 35, 92])"
      ]
     },
     "execution_count": 3,
     "metadata": {},
     "output_type": "execute_result"
    }
   ],
   "source": [
    "# Generate  10 numbers between 1 and 100\n",
    "\n",
    "import numpy as np\n",
    "np.random.randint(low=1, high=100, size=10) #specifying lower, higher values and array size"
   ]
  },
  {
   "cell_type": "code",
   "execution_count": 4,
   "metadata": {},
   "outputs": [
    {
     "data": {
      "text/plain": [
       "array([4, 2, 8, 2, 1, 2, 4, 8, 7, 3, 1, 8, 2, 3, 7, 1, 6, 4, 2, 3, 2, 5,\n",
       "       4, 2, 1, 6, 9, 9, 1, 9, 3, 9, 6, 8, 3, 6, 2, 3, 1, 2, 5, 4, 8, 9,\n",
       "       8, 4, 1, 1, 1, 4])"
      ]
     },
     "execution_count": 4,
     "metadata": {},
     "output_type": "execute_result"
    }
   ],
   "source": [
    "random_numbers = np.random.randint(1, 10, size=(50))\n",
    "random_numbers"
   ]
  },
  {
   "cell_type": "code",
   "execution_count": 5,
   "metadata": {},
   "outputs": [
    {
     "data": {
      "image/png": "[encoded data removed]",
      "text/plain": [
       "<Figure size 432x288 with 1 Axes>"
      ]
     },
     "metadata": {
      "needs_background": "light"
     },
     "output_type": "display_data"
    }
   ],
   "source": [
    "# Plot random array\n",
    "\n",
    "\n",
    "import matplotlib.pyplot as plt\n",
    "%matplotlib inline\n",
    "\n",
    "plt.title(\"randint histogram\") # Label the title\n",
    "plt.xlabel(\"Random numbers\")   # Label x axis\n",
    "plt.ylabel(\"Frequency\")        # Label y axis\n",
    "\n",
    "plt.hist(random_numbers, edgecolor='red') # Edge color of the bar to red\n",
    "\n",
    "plt.show()"
   ]
  },
  {
   "cell_type": "markdown",
   "metadata": {},
   "source": [
    "The histogram shows a bar measure for each number in the array and the frequency of numbers."
   ]
  },
  {
   "cell_type": "markdown",
   "metadata": {},
   "source": [
    "random.rand function can be used for simple random data. rand takes argumetns and return a set of random values. Using this we can create an array of given shape with random samples over[0,1]"
   ]
  },
  {
   "cell_type": "code",
   "execution_count": 6,
   "metadata": {},
   "outputs": [
    {
     "data": {
      "text/plain": [
       "array([[0.35368394, 0.35324432, 0.93113975, 0.65239022, 0.26419794],\n",
       "       [0.89954365, 0.76616177, 0.59709161, 0.75140449, 0.18272694],\n",
       "       [0.96394642, 0.28697541, 0.76309214, 0.71315626, 0.26463128],\n",
       "       [0.00527956, 0.52391315, 0.98835837, 0.93456518, 0.04128218]])"
      ]
     },
     "execution_count": 6,
     "metadata": {},
     "output_type": "execute_result"
    }
   ],
   "source": [
    "# 2D array using rand function\n",
    "\n",
    "D2 = np.random.rand(4, 5)\n",
    "D2"
   ]
  },
  {
   "cell_type": "markdown",
   "metadata": {},
   "source": [
    "**Permutations function**"
   ]
  },
  {
   "cell_type": "markdown",
   "metadata": {},
   "source": [
    "The two functions used here are shuffle and permutation. Shuffle takes one argument and modify the sequence by shuffling its values"
   ]
  },
  {
   "cell_type": "code",
   "execution_count": 7,
   "metadata": {},
   "outputs": [
    {
     "data": {
      "text/plain": [
       "array([[0.69318785, 0.00114697, 0.99435411, 0.52567851],\n",
       "       [0.30359802, 0.16334292, 0.18575913, 0.58403738],\n",
       "       [0.40030283, 0.66235994, 0.25836506, 0.01344821],\n",
       "       [0.92850786, 0.42308921, 0.35543443, 0.5816682 ],\n",
       "       [0.94393296, 0.28681181, 0.83724864, 0.80601415],\n",
       "       [0.42610553, 0.15977035, 0.15922749, 0.14284191],\n",
       "       [0.16893525, 0.65183192, 0.42268083, 0.15829669]])"
      ]
     },
     "execution_count": 7,
     "metadata": {},
     "output_type": "execute_result"
    }
   ],
   "source": [
    "# Create random array object.\n",
    "\n",
    "random_object = np.random.random((7, 4)) # Returns random floats in the half-open interval [0.0, 1.0).\n",
    "random_object"
   ]
  },
  {
   "cell_type": "code",
   "execution_count": 8,
   "metadata": {},
   "outputs": [
    {
     "data": {
      "text/plain": [
       "array([[0.40030283, 0.66235994, 0.25836506, 0.01344821],\n",
       "       [0.30359802, 0.16334292, 0.18575913, 0.58403738],\n",
       "       [0.42610553, 0.15977035, 0.15922749, 0.14284191],\n",
       "       [0.16893525, 0.65183192, 0.42268083, 0.15829669],\n",
       "       [0.94393296, 0.28681181, 0.83724864, 0.80601415],\n",
       "       [0.69318785, 0.00114697, 0.99435411, 0.52567851],\n",
       "       [0.92850786, 0.42308921, 0.35543443, 0.5816682 ]])"
      ]
     },
     "execution_count": 8,
     "metadata": {},
     "output_type": "execute_result"
    }
   ],
   "source": [
    "# Shuffle the random array\n",
    "\n",
    "np.random.shuffle(random_object) # Our previous randomly shuffled array of floats entered into the shuffle parameter\n",
    "random_object"
   ]
  },
  {
   "cell_type": "markdown",
   "metadata": {},
   "source": [
    "The floats values are all shuffled"
   ]
  },
  {
   "cell_type": "markdown",
   "metadata": {},
   "source": [
    "Permutation also take one argument and permute a sequence randomly and return a permuted range"
   ]
  },
  {
   "cell_type": "code",
   "execution_count": 10,
   "metadata": {},
   "outputs": [
    {
     "data": {
      "text/plain": [
       "array([ 3, 29, 19, 31, 13, 41, 11, 37,  7, 23, 43,  2, 17,  5,  1])"
      ]
     },
     "execution_count": 10,
     "metadata": {},
     "output_type": "execute_result"
    }
   ],
   "source": [
    "# Permutation function for prime numbers\n",
    "\n",
    "import numpy as np\n",
    "np.random.permutation([1, 2, 3, 5, 7, 11, 13, 17, 19, 23, 29, 31, 37, 41, 43,])"
   ]
  },
  {
   "cell_type": "markdown",
   "metadata": {},
   "source": [
    "**Distributions**"
   ]
  },
  {
   "cell_type": "markdown",
   "metadata": {},
   "source": [
    "numpy.random provides functionality to the user to generate random numbers. It can be used for different use cases like forecasting sales data, predicting likely chances of stock market results."
   ]
  },
  {
   "cell_type": "markdown",
   "metadata": {},
   "source": [
    "**Uniform Distribution**"
   ]
  },
  {
   "cell_type": "markdown",
   "metadata": {},
   "source": [
    "The numpy.random function for this purpose is the uniform distribution. It is a continuous distribution so the values drawn are floats. A real life example of how this might be used is for daily sales forecasts.The analyst might have an idea of what the minimum and maximum daily sales figures could be, and then use random numbers drawn from a uniform distribution to help model a sales forecast. The probability density function, p(x) for the uniform distribution is:\n",
    "\n",
    "$$ p(x) = \\frac{1}{x - y} $$\n",
    "Where x is the minimum value of the range and y is the maximum. The code sample below demonstrates this probability density function:"
   ]
  },
  {
   "cell_type": "code",
   "execution_count": 14,
   "metadata": {},
   "outputs": [
    {
     "data": {
      "image/png": "[encoded data removed]",
      "text/plain": [
       "<Figure size 432x288 with 1 Axes>"
      ]
     },
     "metadata": {
      "needs_background": "light"
     },
     "output_type": "display_data"
    }
   ],
   "source": [
    "# Set the minimum and maximum values x and y\n",
    "x = 10\n",
    "y = 40\n",
    "# Generate a list of x-values in the range between minimum and maximum\n",
    "z = np.arange(x,y+1,1)\n",
    "# Calulate a corresponding list of y values using the pdf formula\n",
    "t = [1/(y-x) for i in range(len(z))]\n",
    "# Plot the distribution\n",
    "plt.title(\"Uniform Distribution between \" + str(x) + \" and \" + str(y))\n",
    "plt.xlabel(\"t\")\n",
    "plt. ylabel(\"p(t)\")\n",
    "plt.plot(z,t, 'y-')\n",
    "plt.show()\n"
   ]
  },
  {
   "cell_type": "markdown",
   "metadata": {},
   "source": [
    "The plot of the pdf above shows that there is a equal chance of each number between 10 and 40 being drawn. The probability of each number is approximately 0.0333 (1/30). In the next example, 10,000 numbers between 10 and 40 will be drawn with the uniform distribution."
   ]
  },
  {
   "cell_type": "markdown",
   "metadata": {},
   "source": [
    "In this scenario, the owner of an pizza shop would like to forecast the monthly sales for the shop. The shop owner knows that the daily sales are always between €100 and €200. The uniform distribution will be used to estimate a monthly forecast for November."
   ]
  },
  {
   "cell_type": "code",
   "execution_count": 17,
   "metadata": {},
   "outputs": [
    {
     "name": "stdout",
     "output_type": "stream",
     "text": [
      "Total Sales forecast for November is: €4742.98\n"
     ]
    }
   ],
   "source": [
    "\n",
    "# Set min and max sales\n",
    "min_sales = 100\n",
    "max_sales = 200\n",
    "\n",
    "# return daily sales forecast for the month of November (30 random numbers between 100 and 200)\n",
    "nov_sales = [np.random.uniform(min_sales, max_sales, 30)]\n",
    "\n",
    "# round to 2 decimal places \n",
    "print(\"Total Sales forecast for November is: €\" + str(round(np.sum(nov_sales),2)))"
   ]
  },
  {
   "cell_type": "markdown",
   "metadata": {},
   "source": [
    "**Normal Distribution**"
   ]
  },
  {
   "cell_type": "markdown",
   "metadata": {},
   "source": [
    "**Use of seeds in generating pseudorandom numbers**"
   ]
  },
  {
   "cell_type": "markdown",
   "metadata": {},
   "source": [
    "In data science, true randomness is difficult to achieve. Instead we use pseudorandomness. Numbers are generated in a sequence and this sequence is deterministic and seeded with an initial number. The value of the seed does not necessarily matter. What does matter is that the same seeding of the process results in the same sequence of random numbers. Numpy.random contains a small suite called Random generator, a collection of functions which help us generate pseudorandom processes. The seed() function in numpy.random will seed the Pseudorandom Number Generator, receiving an interger value as an argument "
   ]
  },
  {
   "cell_type": "code",
   "execution_count": 19,
   "metadata": {},
   "outputs": [
    {
     "name": "stdout",
     "output_type": "stream",
     "text": [
      "0.6229016948897019 0.7417869892607294 0.7951935655656966 0.9424502837770503\n",
      "0.6229016948897019 0.7417869892607294 0.7951935655656966 0.9424502837770503\n",
      "0.4745706786885481 0.6574725026572553 0.6664104711248381 0.14260035292536777\n"
     ]
    }
   ],
   "source": [
    "from random import seed\n",
    "from random import random\n",
    "\n",
    "# Seed the PNG (Pseudorandom Number Generator)\n",
    "seed(5)\n",
    "\n",
    "# Generate random numbers set from the seed(1)\n",
    "print(random(), random(), random(), random())\n",
    "\n",
    "# Resetting the seed\n",
    "seed(5)\n",
    "\n",
    "# Generating random numbers again\n",
    "print(random(), random(), random(), random())\n",
    "\n",
    "# Resetting the seed with a different argument\n",
    "seed(12)\n",
    "\n",
    "# Generating random numbers again\n",
    "print(random(), random(), random(), random())"
   ]
  },
  {
   "cell_type": "markdown",
   "metadata": {},
   "source": [
    "In this example, we seeded the Pseudorandom Number Generator with the value 5 and it generated 4 random numbers. We then reseeded the Pseudorandom Number Generator and ran it again to see it generate the exact same 4 numbers. In the final example after reseeding to the value of 12, we can see it has generated 4 completely different random numbers."
   ]
  },
  {
   "cell_type": "markdown",
   "metadata": {},
   "source": [
    "numpy.random.RandomState is a container for the Mersenne Twister pseudo-random number generator. It is very similar to the seed() function but unlike seed, can be used to create packaged objects which you can for call in your programs at a later stage. RandomState essentially exposes a number of methods for generating random numbers drawn from a variety of probability distributions"
   ]
  },
  {
   "cell_type": "code",
   "execution_count": 20,
   "metadata": {},
   "outputs": [
    {
     "data": {
      "text/plain": [
       "<mtrand.RandomState at 0x187fd052a20>"
      ]
     },
     "execution_count": 20,
     "metadata": {},
     "output_type": "execute_result"
    }
   ],
   "source": [
    "import numpy \n",
    "object = numpy.random.RandomState(1234) # Creating a RandomState object as \"object\"\n",
    "object"
   ]
  },
  {
   "cell_type": "code",
   "execution_count": 22,
   "metadata": {},
   "outputs": [
    {
     "data": {
      "text/plain": [
       "array([[0.19151945, 0.62210877, 0.43772774],\n",
       "       [0.78535858, 0.77997581, 0.27259261],\n",
       "       [0.27646426, 0.80187218, 0.95813935],\n",
       "       [0.87593263, 0.35781727, 0.50099513],\n",
       "       [0.68346294, 0.71270203, 0.37025075],\n",
       "       [0.56119619, 0.50308317, 0.01376845],\n",
       "       [0.77282662, 0.88264119, 0.36488598],\n",
       "       [0.61539618, 0.07538124, 0.36882401],\n",
       "       [0.9331401 , 0.65137814, 0.39720258]])"
      ]
     },
     "execution_count": 22,
     "metadata": {},
     "output_type": "execute_result"
    }
   ],
   "source": [
    "data = object.rand(9, 3) # Using the object \"obj\" to create a new random numpy array which is also an object called \"data\"\n",
    "data"
   ]
  },
  {
   "cell_type": "code",
   "execution_count": 23,
   "metadata": {},
   "outputs": [
    {
     "data": {
      "text/plain": [
       "array([[0.19151945, 0.62210877, 0.43772774],\n",
       "       [0.78535858, 0.77997581, 0.27259261],\n",
       "       [0.27646426, 0.80187218, 0.95813935],\n",
       "       [0.87593263, 0.35781727, 0.50099513],\n",
       "       [0.68346294, 0.71270203, 0.37025075],\n",
       "       [0.56119619, 0.50308317, 0.01376845],\n",
       "       [0.77282662, 0.88264119, 0.36488598],\n",
       "       [0.61539618, 0.07538124, 0.36882401],\n",
       "       [0.9331401 , 0.65137814, 0.39720258]])"
      ]
     },
     "execution_count": 23,
     "metadata": {},
     "output_type": "execute_result"
    }
   ],
   "source": [
    "data"
   ]
  },
  {
   "cell_type": "markdown",
   "metadata": {},
   "source": [
    "The RandomState has maintained its state just as before:"
   ]
  }
 ],
 "metadata": {
  "kernelspec": {
   "display_name": "Python 3",
   "language": "python",
   "name": "python3"
  },
  "language_info": {
   "codemirror_mode": {
    "name": "ipython",
    "version": 3
   },
   "file_extension": ".py",
   "mimetype": "text/x-python",
   "name": "python",
   "nbconvert_exporter": "python",
   "pygments_lexer": "ipython3",
   "version": "3.7.1"
  }
 },
 "nbformat": 4,
 "nbformat_minor": 2
}
