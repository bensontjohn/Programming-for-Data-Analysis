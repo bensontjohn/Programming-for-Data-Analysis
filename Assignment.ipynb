{
 "cells": [
  {
   "cell_type": "markdown",
   "metadata": {},
   "source": [
    "# Assignment 2019: Programming for Data Analysis.\n",
    "\n",
    "There are four distinct tasks to be carried out in this assignment. They are\n",
    "\n",
    "1. Explain the overall purpose of the package.\n",
    "2. Explain the use of the “Simple random data” and “Permutations” functions.\n",
    "3. Explain the use and purpose of at least five “Distributions” functions.\n",
    "4. Explain the use of seeds in generating pseudorandom numbers\n",
    "\n",
    "**Overall purpose of the package:**\n",
    "\n",
    "One of modulues used in Python's numpy package is random module. The random module generates random numbers. The module consists of random data, permutations, distributions and random generator. It provides an array of tools, for tasks such as picking a random floating-point number between 0 and 1, and selecting a random integer between two numbers. The module is also capable of generating a vast amount of probability distribtions.\n"
   ]
  },
  {
   "cell_type": "markdown",
   "metadata": {},
   "source": [
    "The random module choose random items from a sequence of items randomly"
   ]
  },
  {
   "cell_type": "code",
   "execution_count": 7,
   "metadata": {},
   "outputs": [
    {
     "data": {
      "text/plain": [
       "'Europe'"
      ]
     },
     "execution_count": 7,
     "metadata": {},
     "output_type": "execute_result"
    }
   ],
   "source": [
    "import random\n",
    "random.choice(['Asia','North America','South America','Europe', 'Africa']) #list of continents"
   ]
  },
  {
   "cell_type": "code",
   "execution_count": 8,
   "metadata": {},
   "outputs": [
    {
     "data": {
      "text/plain": [
       "['Purple', 'Red', 'Black', 'Yellow', 'Orange']"
      ]
     },
     "execution_count": 8,
     "metadata": {},
     "output_type": "execute_result"
    }
   ],
   "source": [
    "# Shuffling a list of items randomly\n",
    "\n",
    "import random\n",
    "colors = [\"Red\", \"Purple\", \"Orange\", \"Yellow\", \"Black\"] # list of colors\n",
    "random.shuffle(colors)\n",
    "colors"
   ]
  },
  {
   "cell_type": "markdown",
   "metadata": {},
   "source": [
    "**Use of the “Simple random data” and “Permutations” functions.**"
   ]
  },
  {
   "cell_type": "code",
   "execution_count": 9,
   "metadata": {},
   "outputs": [
    {
     "data": {
      "text/plain": [
       "array([11, 27, 54, 54, 71, 70, 40, 74, 98, 14])"
      ]
     },
     "execution_count": 9,
     "metadata": {},
     "output_type": "execute_result"
    }
   ],
   "source": [
    "# Generate  10 numbers between 1 and 100\n",
    "\n",
    "import numpy as np\n",
    "np.random.randint(low=1, high=100, size=10) #specifying lower, higher values and array size"
   ]
  },
  {
   "cell_type": "code",
   "execution_count": 10,
   "metadata": {},
   "outputs": [
    {
     "data": {
      "text/plain": [
       "array([1, 7, 8, 8, 4, 8, 1, 8, 6, 2, 7, 9, 8, 9, 8, 9, 8, 7, 4, 2, 3, 2,\n",
       "       6, 2, 6, 1, 6, 9, 8, 2, 4, 6, 4, 9, 2, 3, 9, 6, 1, 3, 5, 5, 6, 6,\n",
       "       6, 5, 8, 7, 2, 9])"
      ]
     },
     "execution_count": 10,
     "metadata": {},
     "output_type": "execute_result"
    }
   ],
   "source": [
    "random_numbers = np.random.randint(1, 10, size=(50))\n",
    "random_numbers"
   ]
  },
  {
   "cell_type": "code",
   "execution_count": 11,
   "metadata": {},
   "outputs": [
    {
     "data": {
      "image/png": "[encoded data removed]",
      "text/plain": [
       "<Figure size 432x288 with 1 Axes>"
      ]
     },
     "metadata": {
      "needs_background": "light"
     },
     "output_type": "display_data"
    }
   ],
   "source": [
    "# Plot random array\n",
    "\n",
    "\n",
    "import matplotlib.pyplot as plt\n",
    "%matplotlib inline\n",
    "\n",
    "plt.title(\"randint histogram\") # Label the title\n",
    "plt.xlabel(\"Random numbers\")   # Label x axis\n",
    "plt.ylabel(\"Frequency\")        # Label y axis\n",
    "\n",
    "plt.hist(random_numbers, edgecolor='red') # Edge color of the bar to red\n",
    "\n",
    "plt.show()"
   ]
  },
  {
   "cell_type": "markdown",
   "metadata": {},
   "source": [
    "The histogram shows a bar measure for each number in the array and the frequency of numbers."
   ]
  },
  {
   "cell_type": "markdown",
   "metadata": {},
   "source": [
    "random.rand function can be used for simple random data. rand takes argumetns and return a set of random values. Using this we can create an array of given shape with random samples over[0,1]"
   ]
  },
  {
   "cell_type": "code",
   "execution_count": 12,
   "metadata": {},
   "outputs": [
    {
     "data": {
      "text/plain": [
       "array([[0.90248176, 0.6747988 , 0.58689261, 0.66794184, 0.58556771],\n",
       "       [0.42522329, 0.60153408, 0.15724256, 0.17818499, 0.31000345],\n",
       "       [0.39271172, 0.96543509, 0.24400238, 0.79516681, 0.83963856],\n",
       "       [0.10551008, 0.91646956, 0.12713102, 0.54005996, 0.50046545]])"
      ]
     },
     "execution_count": 12,
     "metadata": {},
     "output_type": "execute_result"
    }
   ],
   "source": [
    "# 2D array using rand function\n",
    "\n",
    "D2 = np.random.rand(4, 5)\n",
    "D2"
   ]
  },
  {
   "cell_type": "markdown",
   "metadata": {},
   "source": [
    "**Permutations function**"
   ]
  },
  {
   "cell_type": "markdown",
   "metadata": {},
   "source": [
    "The two functions used here are shuffle and permutation. Shuffle takes one argument and modify the sequence by shuffling its values"
   ]
  },
  {
   "cell_type": "code",
   "execution_count": 13,
   "metadata": {},
   "outputs": [
    {
     "data": {
      "text/plain": [
       "array([[0.59158958, 0.94788513, 0.00928616, 0.77311357],\n",
       "       [0.02228892, 0.84659915, 0.442971  , 0.65287837],\n",
       "       [0.98989107, 0.06390754, 0.55897392, 0.91123484],\n",
       "       [0.55338667, 0.91571747, 0.81027857, 0.51493878],\n",
       "       [0.34999032, 0.75405317, 0.85563311, 0.98453928],\n",
       "       [0.68191363, 0.21727025, 0.56268922, 0.05604279],\n",
       "       [0.62077441, 0.75795892, 0.92413861, 0.0787547 ]])"
      ]
     },
     "execution_count": 13,
     "metadata": {},
     "output_type": "execute_result"
    }
   ],
   "source": [
    "# Create random array object.\n",
    "\n",
    "random_object = np.random.random((7, 4)) # Returns random floats in the half-open interval [0.0, 1.0).\n",
    "random_object"
   ]
  },
  {
   "cell_type": "code",
   "execution_count": 14,
   "metadata": {},
   "outputs": [
    {
     "data": {
      "text/plain": [
       "array([[0.02228892, 0.84659915, 0.442971  , 0.65287837],\n",
       "       [0.98989107, 0.06390754, 0.55897392, 0.91123484],\n",
       "       [0.34999032, 0.75405317, 0.85563311, 0.98453928],\n",
       "       [0.68191363, 0.21727025, 0.56268922, 0.05604279],\n",
       "       [0.62077441, 0.75795892, 0.92413861, 0.0787547 ],\n",
       "       [0.55338667, 0.91571747, 0.81027857, 0.51493878],\n",
       "       [0.59158958, 0.94788513, 0.00928616, 0.77311357]])"
      ]
     },
     "execution_count": 14,
     "metadata": {},
     "output_type": "execute_result"
    }
   ],
   "source": [
    "# Shuffle the random array\n",
    "\n",
    "np.random.shuffle(random_object) # Our previous randomly shuffled array of floats entered into the shuffle parameter\n",
    "random_object"
   ]
  },
  {
   "cell_type": "markdown",
   "metadata": {},
   "source": [
    "The floats values are all shuffled"
   ]
  },
  {
   "cell_type": "markdown",
   "metadata": {},
   "source": [
    "Permutation also take one argument and permute a sequence randomly and return a permuted range"
   ]
  },
  {
   "cell_type": "code",
   "execution_count": 15,
   "metadata": {},
   "outputs": [
    {
     "data": {
      "text/plain": [
       "array([11, 17, 13, 23, 43,  3, 31,  2, 19,  7, 29,  5,  1, 37, 41])"
      ]
     },
     "execution_count": 15,
     "metadata": {},
     "output_type": "execute_result"
    }
   ],
   "source": [
    "# Permutation function for prime numbers\n",
    "\n",
    "import numpy as np\n",
    "np.random.permutation([1, 2, 3, 5, 7, 11, 13, 17, 19, 23, 29, 31, 37, 41, 43,])"
   ]
  },
  {
   "cell_type": "markdown",
   "metadata": {},
   "source": [
    "**Distributions**"
   ]
  },
  {
   "cell_type": "markdown",
   "metadata": {},
   "source": [
    "numpy.random provides functionality to the user to generate random numbers. It can be used for different use cases like forecasting sales data, predicting likely chances of stock market results."
   ]
  },
  {
   "cell_type": "markdown",
   "metadata": {},
   "source": [
    "**Uniform Distribution**"
   ]
  },
  {
   "cell_type": "markdown",
   "metadata": {},
   "source": [
    "The numpy.random function for this purpose is the uniform distribution. It is a continuous distribution so the values drawn are floats. A real life example of how this might be used is for daily sales forecasts.The analyst might have an idea of what the minimum and maximum daily sales figures could be, and then use random numbers drawn from a uniform distribution to help model a sales forecast. The probability density function, p(x) for the uniform distribution is:\n",
    "\n",
    "$$ p(x) = \\frac{1}{x - y} $$\n",
    "Where x is the minimum value of the range and y is the maximum. The code sample below demonstrates this probability density function:"
   ]
  },
  {
   "cell_type": "code",
   "execution_count": 16,
   "metadata": {},
   "outputs": [
    {
     "data": {
      "image/png": "[encoded data removed]",
      "text/plain": [
       "<Figure size 432x288 with 1 Axes>"
      ]
     },
     "metadata": {
      "needs_background": "light"
     },
     "output_type": "display_data"
    }
   ],
   "source": [
    "# Set the minimum and maximum values x and y\n",
    "x = 10\n",
    "y = 40\n",
    "# Generate a list of x-values in the range between minimum and maximum\n",
    "z = np.arange(x,y+1,1)\n",
    "# Calulate a corresponding list of y values using the pdf formula\n",
    "t = [1/(y-x) for i in range(len(z))]\n",
    "# Plot the distribution\n",
    "plt.title(\"Uniform Distribution between \" + str(x) + \" and \" + str(y))\n",
    "plt.xlabel(\"t\")\n",
    "plt. ylabel(\"p(t)\")\n",
    "plt.plot(z,t, 'y-')\n",
    "plt.show()\n"
   ]
  },
  {
   "cell_type": "markdown",
   "metadata": {},
   "source": [
    "The plot of the pdf above shows that there is a equal chance of each number between 10 and 40 being drawn. The probability of each number is approximately 0.0333 (1/30). In the next example, 10,000 numbers between 10 and 40 will be drawn with the uniform distribution."
   ]
  },
  {
   "cell_type": "markdown",
   "metadata": {},
   "source": [
    "In this scenario, the owner of an pizza shop would like to forecast the monthly sales for the shop. The shop owner knows that the daily sales are always between €100 and €200. The uniform distribution will be used to estimate a monthly forecast for November."
   ]
  },
  {
   "cell_type": "code",
   "execution_count": 17,
   "metadata": {},
   "outputs": [
    {
     "name": "stdout",
     "output_type": "stream",
     "text": [
      "Total Sales forecast for November is: €4754.27\n"
     ]
    }
   ],
   "source": [
    "\n",
    "# Set min and max sales\n",
    "min_sales = 100\n",
    "max_sales = 200\n",
    "\n",
    "# return daily sales forecast for the month of November (30 random numbers between 100 and 200)\n",
    "nov_sales = [np.random.uniform(min_sales, max_sales, 30)]\n",
    "\n",
    "# round to 2 decimal places \n",
    "print(\"Total Sales forecast for November is: €\" + str(round(np.sum(nov_sales),2)))"
   ]
  },
  {
   "cell_type": "markdown",
   "metadata": {},
   "source": [
    "**Binomial distribution**"
   ]
  },
  {
   "cell_type": "markdown",
   "metadata": {},
   "source": [
    "A binomial distribution tells us the probability of how often there will be a success in n independent experiments. Such experiments are yes/no, true/false or success/failure questions, i.e. only two possible outcomes. One example is tossing a coin like we have just seen, where the probabilty of sucess and failure is the same. A single success/failure esperiment is also knowm as a Bernoulli trial because the binomial distribution was derived by James Bernoulli.\n",
    "\n",
    "Samples are drawn from a binomial distribution with specified parameters, n trials and p probability of success where n an integer >= 0 and p is in the interval [0,1]. Adding a size parameter is optional [3]. Each trial is independent since the outcome doesn't affect the outcome of the current coin toss. So:\n",
    "\n",
    "n = number of trials p = probability event of interest occurs on any one trial (success) size = number of times you want to run this experiment"
   ]
  },
  {
   "cell_type": "code",
   "execution_count": 18,
   "metadata": {},
   "outputs": [
    {
     "data": {
      "text/plain": [
       "2"
      ]
     },
     "execution_count": 18,
     "metadata": {},
     "output_type": "execute_result"
    }
   ],
   "source": [
    "# The number n of heads (successes) in 4 coin ﬂips (Bernoulli trials) with probability 0.5 of heads is Binomially distributed \n",
    "import numpy as np\n",
    "flips = 4\n",
    "prob = 0.5\n",
    "np.random.binomial(flips, prob)"
   ]
  },
  {
   "cell_type": "code",
   "execution_count": 19,
   "metadata": {},
   "outputs": [
    {
     "data": {
      "text/plain": [
       "array([3, 0, 1, 2, 2, 2, 3, 0, 2, 2, 2, 4, 4, 2, 1, 3, 3, 2, 2, 1, 0, 2,\n",
       "       4, 2, 1, 3, 2, 3, 0, 0, 1, 3, 1, 2, 3, 0, 2, 2, 2, 2, 2, 2, 2, 2,\n",
       "       3, 3, 3, 0, 4, 2, 1, 1, 1, 0, 3, 3, 3, 3, 1, 1, 1, 2, 3, 3, 2, 3,\n",
       "       1, 3, 3, 1, 0, 4, 2, 2, 2, 1, 2, 2, 4, 2, 1, 0, 0, 1, 3, 3, 1, 1,\n",
       "       4, 3, 3, 1, 4, 2, 2, 3, 1, 3, 3, 2, 1, 1, 4, 1, 1, 1, 2, 1, 1, 2,\n",
       "       2, 0, 3, 3, 2, 1, 3, 3, 3, 0, 4, 2, 2, 2, 2, 2, 1, 3, 1, 3, 1, 1,\n",
       "       2, 4, 3, 1, 0, 2, 3, 3, 3, 2, 1, 1, 0, 0, 2, 3, 3, 2, 2, 3, 1, 0,\n",
       "       2, 4, 2, 1, 1, 4, 2, 2, 4, 1, 1, 0, 0, 4, 3, 2, 0, 2, 2, 2, 2, 1,\n",
       "       1, 3, 1, 0, 3, 1, 1, 3, 3, 3, 4, 1, 3, 2, 2, 3, 2, 1, 1, 1, 2, 3,\n",
       "       3, 3])"
      ]
     },
     "execution_count": 19,
     "metadata": {},
     "output_type": "execute_result"
    }
   ],
   "source": [
    "# Now we can look at the array of number of successful flips (out of 4) by running the experiment 200 times\n",
    "\n",
    "bernoulli = np.random.binomial(flips, prob, size = 200)\n",
    "bernoulli"
   ]
  },
  {
   "cell_type": "code",
   "execution_count": 20,
   "metadata": {},
   "outputs": [
    {
     "data": {
      "image/png": "[encoded data removed]",
      "text/plain": [
       "<Figure size 432x288 with 1 Axes>"
      ]
     },
     "metadata": {
      "needs_background": "light"
     },
     "output_type": "display_data"
    }
   ],
   "source": [
    "import matplotlib.pyplot as plt\n",
    "%matplotlib inline\n",
    "\n",
    "plt.hist(bernoulli, density=True, edgecolor='k')    # Adding sample count, amount of bins and density function line (True = normal),\n",
    "                                                    # and adding edgecolour to the bins\n",
    "\n",
    "# Configuring the details of the histogram output [3].\n",
    "\n",
    "plt.plot(linewidth=2, color='r', edgecolor= 'k')\n",
    "plt.ylabel('Frequency') # labelling my y axis\n",
    "plt.xlabel('Flips') # labelling my x axis \n",
    "plt.title('Binomial distribution') # Adding title\n",
    "\n",
    "plt.show()"
   ]
  },
  {
   "cell_type": "markdown",
   "metadata": {},
   "source": [
    "**Poisson Distribution**"
   ]
  },
  {
   "cell_type": "markdown",
   "metadata": {},
   "source": [
    "The Poisson distribution is used to plot the likelihood of a certain number of events within an expected time interval. It is linked to exponential distribution which can be used models the waiting time between such events.\n",
    "\n",
    "In order to use the poisson numpy function, the two inputs should be:\n",
    "lam : >= 0 float or array_like of floats (lam/lambda is a mathematical function)\n",
    "size : optional, int or tuple of ints\n",
    "The output is of ndarray or scalar samples from the parameterized poisson distribution."
   ]
  },
  {
   "cell_type": "code",
   "execution_count": 21,
   "metadata": {},
   "outputs": [
    {
     "data": {
      "text/plain": [
       "array([1, 2, 6, ..., 4, 3, 5])"
      ]
     },
     "execution_count": 21,
     "metadata": {},
     "output_type": "execute_result"
    }
   ],
   "source": [
    "#p = the probability of 2000 events over intervals of 3\n",
    "p = np.random.poisson(3,2000)\n",
    "p"
   ]
  },
  {
   "cell_type": "code",
   "execution_count": 22,
   "metadata": {},
   "outputs": [
    {
     "data": {
      "text/plain": [
       "<function matplotlib.pyplot.show(*args, **kw)>"
      ]
     },
     "execution_count": 22,
     "metadata": {},
     "output_type": "execute_result"
    },
    {
     "data": {
      "image/png": "[encoded data removed]",
      "text/plain": [
       "<Figure size 432x288 with 1 Axes>"
      ]
     },
     "metadata": {
      "needs_background": "light"
     },
     "output_type": "display_data"
    }
   ],
   "source": [
    "plt.hist(p)\n",
    "#the plot displays the number of occurences along the horizontal axis and the probability along the vertical one.  \n",
    "  \n",
    "plt.show"
   ]
  },
  {
   "cell_type": "markdown",
   "metadata": {},
   "source": [
    "**Exponential Distribution**"
   ]
  },
  {
   "cell_type": "markdown",
   "metadata": {},
   "source": [
    "The exponential distribution is commonly used in models concerened with intervals between events. Common examples of exponentially distributed intervals would be:\n",
    "\n",
    ". Modelling the time between customers entering a shop\n",
    "\n",
    ". Modelling the human survival rates\n",
    "\n",
    ". Modelling failure rates of industrial machinery\n",
    "\n",
    "A random variable x is said to be exponentially distributed with a probability density function p(x) defined as follows:\n",
    "\n",
    "$$\n",
    "(x) = {\\lambda} e ^ {- \\lambda x } \\qquad \\qquad x &gt; 0,\n",
    "$$\n",
    "for $\\lambda &gt; 0$, representing the rate. The actual meaning of the rate varies depending on the model, but for engineering problems it usually represents the failure rate. Take the following as an example, a engineer wants to predict what percentage of new pumps will last at least 1,000 hours before failing. He has data on 2,500 other such pumps that have all run for an average of 150 hours each with 75 pumps failing in operation so far.\n",
    "\n",
    "The first step is to calculate the failure rate for the problem:"
   ]
  },
  {
   "cell_type": "code",
   "execution_count": 4,
   "metadata": {},
   "outputs": [
    {
     "name": "stdout",
     "output_type": "stream",
     "text": [
      "The failure rate for these pumps is: 0.0002 pumps per hour\n"
     ]
    }
   ],
   "source": [
    "# Define the variables\n",
    "avg_run_time = 150\n",
    "no_of_units = 2500\n",
    "no_of_fails = 75\n",
    "\n",
    "# Calculate the failure rate, lam\n",
    "lam = no_of_fails/(avg_run_time * no_of_units) \n",
    "print(\"The failure rate for these pumps is: \" + str(lam) + \" pumps per hour\")"
   ]
  },
  {
   "cell_type": "code",
   "execution_count": 28,
   "metadata": {},
   "outputs": [
    {
     "data": {
      "image/png": "[encoded data removed]",
      "text/plain": [
       "<Figure size 432x288 with 1 Axes>"
      ]
     },
     "metadata": {
      "needs_background": "light"
     },
     "output_type": "display_data"
    }
   ],
   "source": [
    "# The x-axis will represent time run in the range to 1,500 hours\n",
    "import numpy as np\n",
    "import math\n",
    "x = np.arange(1,(1501),1)\n",
    "y = [lam*math.exp((-lam*x[i]))  for i in range(len(x))]\n",
    "\n",
    "plt.title(\"Exponential Distribution\")\n",
    "plt.xlabel(\"Hours Run\")\n",
    "plt.ylabel(\"P(x) of Failiure\")\n",
    "plt.xlim(0,1500)\n",
    "plt.ylim(0.0001, 0.00021)\n",
    "plt.plot(x,y, 'b')\n",
    "plt.show()"
   ]
  },
  {
   "cell_type": "markdown",
   "metadata": {},
   "source": [
    "**Use of seeds in generating pseudorandom numbers**"
   ]
  },
  {
   "cell_type": "markdown",
   "metadata": {},
   "source": [
    "In data science, true randomness is difficult to achieve. Instead we use pseudorandomness. Numbers are generated in a sequence and this sequence is deterministic and seeded with an initial number. The value of the seed does not necessarily matter. What does matter is that the same seeding of the process results in the same sequence of random numbers. Numpy.random contains a small suite called Random generator, a collection of functions which help us generate pseudorandom processes. The seed() function in numpy.random will seed the Pseudorandom Number Generator, receiving an interger value as an argument "
   ]
  },
  {
   "cell_type": "code",
   "execution_count": 24,
   "metadata": {},
   "outputs": [
    {
     "name": "stdout",
     "output_type": "stream",
     "text": [
      "0.6229016948897019 0.7417869892607294 0.7951935655656966 0.9424502837770503\n",
      "0.6229016948897019 0.7417869892607294 0.7951935655656966 0.9424502837770503\n",
      "0.4745706786885481 0.6574725026572553 0.6664104711248381 0.14260035292536777\n"
     ]
    }
   ],
   "source": [
    "from random import seed\n",
    "from random import random\n",
    "\n",
    "# Seed the PNG (Pseudorandom Number Generator)\n",
    "seed(5)\n",
    "\n",
    "# Generate random numbers set from the seed(1)\n",
    "print(random(), random(), random(), random())\n",
    "\n",
    "# Resetting the seed\n",
    "seed(5)\n",
    "\n",
    "# Generating random numbers again\n",
    "print(random(), random(), random(), random())\n",
    "\n",
    "# Resetting the seed with a different argument\n",
    "seed(12)\n",
    "\n",
    "# Generating random numbers again\n",
    "print(random(), random(), random(), random())"
   ]
  },
  {
   "cell_type": "markdown",
   "metadata": {},
   "source": [
    "In this example, we seeded the Pseudorandom Number Generator with the value 5 and it generated 4 random numbers. We then reseeded the Pseudorandom Number Generator and ran it again to see it generate the exact same 4 numbers. In the final example after reseeding to the value of 12, we can see it has generated 4 completely different random numbers."
   ]
  },
  {
   "cell_type": "markdown",
   "metadata": {},
   "source": [
    "numpy.random.RandomState is a container for the Mersenne Twister pseudo-random number generator. It is very similar to the seed() function but unlike seed, can be used to create packaged objects which you can for call in your programs at a later stage. RandomState essentially exposes a number of methods for generating random numbers drawn from a variety of probability distributions"
   ]
  },
  {
   "cell_type": "code",
   "execution_count": 25,
   "metadata": {},
   "outputs": [
    {
     "data": {
      "text/plain": [
       "<mtrand.RandomState at 0x20044fed510>"
      ]
     },
     "execution_count": 25,
     "metadata": {},
     "output_type": "execute_result"
    }
   ],
   "source": [
    "import numpy \n",
    "object = numpy.random.RandomState(1234) # Creating a RandomState object as \"object\"\n",
    "object"
   ]
  },
  {
   "cell_type": "code",
   "execution_count": 26,
   "metadata": {},
   "outputs": [
    {
     "data": {
      "text/plain": [
       "array([[0.19151945, 0.62210877, 0.43772774],\n",
       "       [0.78535858, 0.77997581, 0.27259261],\n",
       "       [0.27646426, 0.80187218, 0.95813935],\n",
       "       [0.87593263, 0.35781727, 0.50099513],\n",
       "       [0.68346294, 0.71270203, 0.37025075],\n",
       "       [0.56119619, 0.50308317, 0.01376845],\n",
       "       [0.77282662, 0.88264119, 0.36488598],\n",
       "       [0.61539618, 0.07538124, 0.36882401],\n",
       "       [0.9331401 , 0.65137814, 0.39720258]])"
      ]
     },
     "execution_count": 26,
     "metadata": {},
     "output_type": "execute_result"
    }
   ],
   "source": [
    "data = object.rand(9, 3) # Using the object \"obj\" to create a new random numpy array which is also an object called \"data\"\n",
    "data"
   ]
  },
  {
   "cell_type": "code",
   "execution_count": 27,
   "metadata": {},
   "outputs": [
    {
     "data": {
      "text/plain": [
       "array([[0.19151945, 0.62210877, 0.43772774],\n",
       "       [0.78535858, 0.77997581, 0.27259261],\n",
       "       [0.27646426, 0.80187218, 0.95813935],\n",
       "       [0.87593263, 0.35781727, 0.50099513],\n",
       "       [0.68346294, 0.71270203, 0.37025075],\n",
       "       [0.56119619, 0.50308317, 0.01376845],\n",
       "       [0.77282662, 0.88264119, 0.36488598],\n",
       "       [0.61539618, 0.07538124, 0.36882401],\n",
       "       [0.9331401 , 0.65137814, 0.39720258]])"
      ]
     },
     "execution_count": 27,
     "metadata": {},
     "output_type": "execute_result"
    }
   ],
   "source": [
    "data"
   ]
  },
  {
   "cell_type": "markdown",
   "metadata": {},
   "source": [
    "The RandomState has maintained its state just as before:"
   ]
  },
  {
   "cell_type": "markdown",
   "metadata": {},
   "source": [
    "**References**"
   ]
  },
  {
   "cell_type": "markdown",
   "metadata": {},
   "source": [
    "\n",
    "[1] Project Jupyter. Project Jupyter Home. (https://www.jupyter.org/)\n",
    "\n",
    "[2] Numpy Deveolpment Team. Numpy Random Sampling (numpy.random)\n",
    "\n",
    "[3] Dr. Ian McLoughlin. GMIT. Assignment 2019: Fundamentals of Data Analysis.\n",
    "\n",
    "[4] Numpy Development Team. Numpy Home. (http://www.numpy.org)\n",
    "\n",
    "[5] SciPy Development Team. Scipy Home. (https://www.scipy.org)\n",
    "\n",
    "[6] https://github.com/shkyler/gmit-pfda-exercises/blob/master/numpyrandom.ipynb"
   ]
  },
  {
   "cell_type": "code",
   "execution_count": null,
   "metadata": {},
   "outputs": [],
   "source": []
  }
 ],
 "metadata": {
  "kernelspec": {
   "display_name": "Python 3",
   "language": "python",
   "name": "python3"
  },
  "language_info": {
   "codemirror_mode": {
    "name": "ipython",
    "version": 3
   },
   "file_extension": ".py",
   "mimetype": "text/x-python",
   "name": "python",
   "nbconvert_exporter": "python",
   "pygments_lexer": "ipython3",
   "version": "3.7.1"
  }
 },
 "nbformat": 4,
 "nbformat_minor": 2
}
